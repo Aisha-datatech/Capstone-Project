{
  "cells": [
    {
      "cell_type": "code",
      "source": [
        "import pandas as pd\n",
        "import numpy as np\n",
        "import matplotlib.pyplot as plt\n",
        "import seaborn as sns"
      ],
      "outputs": [
        {
          "output_type": "display_data",
          "data": {
            "application/vnd.livy.statement-meta+json": {
              "spark_pool": "032aaaac-60b2-43cf-93c8-66d12faea0c0",
              "statement_id": 15,
              "statement_ids": [
                15
              ],
              "state": "finished",
              "livy_statement_state": "available",
              "spark_jobs": {
                "numbers": {
                  "SUCCEEDED": 0,
                  "UNKNOWN": 0,
                  "RUNNING": 0,
                  "FAILED": 0
                },
                "jobs": [],
                "limit": 20,
                "rule": "ALL_DESC"
              },
              "session_id": "1",
              "normalized_state": "finished",
              "queued_time": "2024-12-08T09:55:16.5979849Z",
              "session_start_time": null,
              "execution_start_time": "2024-12-08T09:55:16.7756687Z",
              "execution_finish_time": "2024-12-08T09:55:25.7467673Z",
              "parent_msg_id": "9201844b-ccb5-4afd-877d-53e231075ece"
            },
            "text/plain": "StatementMeta(032aaaac-60b2-43cf-93c8-66d12faea0c0, 1, 15, Finished, Available, Finished)"
          },
          "metadata": {}
        }
      ],
      "execution_count": 10,
      "metadata": {
        "jupyter": {
          "source_hidden": false,
          "outputs_hidden": false
        },
        "nteract": {
          "transient": {
            "deleting": false
          }
        },
        "gather": {
          "logged": 1733651725891
        }
      }
    },
    {
      "cell_type": "code",
      "source": [
        "from sklearn.model_selection import train_test_split\n",
        "from sklearn.ensemble import RandomForestClassifier\n",
        "from sklearn.metrics import classification_report, accuracy_score, confusion_matrix"
      ],
      "outputs": [
        {
          "output_type": "display_data",
          "data": {
            "application/vnd.livy.statement-meta+json": {
              "spark_pool": "032aaaac-60b2-43cf-93c8-66d12faea0c0",
              "statement_id": 16,
              "statement_ids": [
                16
              ],
              "state": "finished",
              "livy_statement_state": "available",
              "spark_jobs": {
                "numbers": {
                  "SUCCEEDED": 0,
                  "UNKNOWN": 0,
                  "RUNNING": 0,
                  "FAILED": 0
                },
                "jobs": [],
                "limit": 20,
                "rule": "ALL_DESC"
              },
              "session_id": "1",
              "normalized_state": "finished",
              "queued_time": "2024-12-08T09:55:30.1813544Z",
              "session_start_time": null,
              "execution_start_time": "2024-12-08T09:55:30.3063101Z",
              "execution_finish_time": "2024-12-08T09:55:33.8432096Z",
              "parent_msg_id": "207f9706-69c3-4d7d-8ae5-6fb143bda668"
            },
            "text/plain": "StatementMeta(032aaaac-60b2-43cf-93c8-66d12faea0c0, 1, 16, Finished, Available, Finished)"
          },
          "metadata": {}
        }
      ],
      "execution_count": 11,
      "metadata": {
        "jupyter": {
          "source_hidden": false,
          "outputs_hidden": false
        },
        "nteract": {
          "transient": {
            "deleting": false
          }
        },
        "gather": {
          "logged": 1733651733934
        }
      }
    },
    {
      "cell_type": "code",
      "source": [
        "data = 'Users/amohammad4/heart_statlog_cleveland_hungary_final.csv'  # File name as a string\n",
        "heart = pd.read_csv(data)  # Load the dataset\n",
        "print(heart)  # Print the dataset\n"
      ],
      "outputs": [
        {
          "output_type": "display_data",
          "data": {
            "application/vnd.livy.statement-meta+json": {
              "spark_pool": "032aaaac-60b2-43cf-93c8-66d12faea0c0",
              "statement_id": 22,
              "statement_ids": [
                22
              ],
              "state": "finished",
              "livy_statement_state": "available",
              "spark_jobs": {
                "numbers": {
                  "SUCCEEDED": 0,
                  "UNKNOWN": 0,
                  "RUNNING": 0,
                  "FAILED": 0
                },
                "jobs": [],
                "limit": 20,
                "rule": "ALL_DESC"
              },
              "session_id": "1",
              "normalized_state": "finished",
              "queued_time": "2024-12-08T10:01:40.5211614Z",
              "session_start_time": null,
              "execution_start_time": "2024-12-08T10:01:40.6355665Z",
              "execution_finish_time": "2024-12-08T10:01:40.9109918Z",
              "parent_msg_id": "64674106-934e-4a69-b4cd-20d52d6df35a"
            },
            "text/plain": "StatementMeta(032aaaac-60b2-43cf-93c8-66d12faea0c0, 1, 22, Finished, Available, Finished)"
          },
          "metadata": {}
        },
        {
          "output_type": "stream",
          "name": "stdout",
          "text": "      age  sex  chest pain type  resting bp s  cholesterol  \\\n0      40    1                2           140          289   \n1      49    0                3           160          180   \n2      37    1                2           130          283   \n3      48    0                4           138          214   \n4      54    1                3           150          195   \n...   ...  ...              ...           ...          ...   \n1185   45    1                1           110          264   \n1186   68    1                4           144          193   \n1187   57    1                4           130          131   \n1188   57    0                2           130          236   \n1189   38    1                3           138          175   \n\n      fasting blood sugar  resting ecg  max heart rate  exercise angina  \\\n0                       0            0             172                0   \n1                       0            0             156                0   \n2                       0            1              98                0   \n3                       0            0             108                1   \n4                       0            0             122                0   \n...                   ...          ...             ...              ...   \n1185                    0            0             132                0   \n1186                    1            0             141                0   \n1187                    0            0             115                1   \n1188                    0            2             174                0   \n1189                    0            0             173                0   \n\n      oldpeak  ST slope  target  \n0         0.0         1       0  \n1         1.0         2       1  \n2         0.0         1       0  \n3         1.5         2       1  \n4         0.0         1       0  \n...       ...       ...     ...  \n1185      1.2         2       1  \n1186      3.4         2       1  \n1187      1.2         2       1  \n1188      0.0         2       1  \n1189      0.0         1       0  \n\n[1190 rows x 12 columns]\n"
        }
      ],
      "execution_count": 17,
      "metadata": {
        "jupyter": {
          "source_hidden": false,
          "outputs_hidden": false
        },
        "nteract": {
          "transient": {
            "deleting": false
          }
        },
        "gather": {
          "logged": 1733652100951
        }
      }
    },
    {
      "cell_type": "code",
      "source": [
        "data_2 = 'Users/amohammad4/diabetes_binary_health_indicators_BRFSS2015.csv'  # File name as a string\n",
        "lifestyle = pd.read_csv(data_2)  # Load the dataset\n",
        "print(lifestyle)  # Print the dataset\n"
      ],
      "outputs": [
        {
          "output_type": "display_data",
          "data": {
            "application/vnd.livy.statement-meta+json": {
              "spark_pool": "032aaaac-60b2-43cf-93c8-66d12faea0c0",
              "statement_id": 23,
              "statement_ids": [
                23
              ],
              "state": "finished",
              "livy_statement_state": "available",
              "spark_jobs": {
                "numbers": {
                  "SUCCEEDED": 0,
                  "UNKNOWN": 0,
                  "RUNNING": 0,
                  "FAILED": 0
                },
                "jobs": [],
                "limit": 20,
                "rule": "ALL_DESC"
              },
              "session_id": "1",
              "normalized_state": "finished",
              "queued_time": "2024-12-08T10:02:39.4773705Z",
              "session_start_time": null,
              "execution_start_time": "2024-12-08T10:02:39.5902544Z",
              "execution_finish_time": "2024-12-08T10:02:40.4160754Z",
              "parent_msg_id": "070cfd1d-27b9-4683-aaa8-f68f13ac519f"
            },
            "text/plain": "StatementMeta(032aaaac-60b2-43cf-93c8-66d12faea0c0, 1, 23, Finished, Available, Finished)"
          },
          "metadata": {}
        },
        {
          "output_type": "stream",
          "name": "stdout",
          "text": "        Diabetes_binary  HighBP  HighChol  CholCheck   BMI  Smoker  Stroke  \\\n0                   0.0     1.0       1.0        1.0  40.0     1.0     0.0   \n1                   0.0     0.0       0.0        0.0  25.0     1.0     0.0   \n2                   0.0     1.0       1.0        1.0  28.0     0.0     0.0   \n3                   0.0     1.0       0.0        1.0  27.0     0.0     0.0   \n4                   0.0     1.0       1.0        1.0  24.0     0.0     0.0   \n...                 ...     ...       ...        ...   ...     ...     ...   \n253675              0.0     1.0       1.0        1.0  45.0     0.0     0.0   \n253676              1.0     1.0       1.0        1.0  18.0     0.0     0.0   \n253677              0.0     0.0       0.0        1.0  28.0     0.0     0.0   \n253678              0.0     1.0       0.0        1.0  23.0     0.0     0.0   \n253679              1.0     1.0       1.0        1.0  25.0     0.0     0.0   \n\n        HeartDiseaseorAttack  PhysActivity  Fruits  ...  AnyHealthcare  \\\n0                        0.0           0.0     0.0  ...            1.0   \n1                        0.0           1.0     0.0  ...            0.0   \n2                        0.0           0.0     1.0  ...            1.0   \n3                        0.0           1.0     1.0  ...            1.0   \n4                        0.0           1.0     1.0  ...            1.0   \n...                      ...           ...     ...  ...            ...   \n253675                   0.0           0.0     1.0  ...            1.0   \n253676                   0.0           0.0     0.0  ...            1.0   \n253677                   0.0           1.0     1.0  ...            1.0   \n253678                   0.0           0.0     1.0  ...            1.0   \n253679                   1.0           1.0     1.0  ...            1.0   \n\n        NoDocbcCost  GenHlth  MentHlth  PhysHlth  DiffWalk  Sex   Age  \\\n0               0.0      5.0      18.0      15.0       1.0  0.0   9.0   \n1               1.0      3.0       0.0       0.0       0.0  0.0   7.0   \n2               1.0      5.0      30.0      30.0       1.0  0.0   9.0   \n3               0.0      2.0       0.0       0.0       0.0  0.0  11.0   \n4               0.0      2.0       3.0       0.0       0.0  0.0  11.0   \n...             ...      ...       ...       ...       ...  ...   ...   \n253675          0.0      3.0       0.0       5.0       0.0  1.0   5.0   \n253676          0.0      4.0       0.0       0.0       1.0  0.0  11.0   \n253677          0.0      1.0       0.0       0.0       0.0  0.0   2.0   \n253678          0.0      3.0       0.0       0.0       0.0  1.0   7.0   \n253679          0.0      2.0       0.0       0.0       0.0  0.0   9.0   \n\n        Education  Income  \n0             4.0     3.0  \n1             6.0     1.0  \n2             4.0     8.0  \n3             3.0     6.0  \n4             5.0     4.0  \n...           ...     ...  \n253675        6.0     7.0  \n253676        2.0     4.0  \n253677        5.0     2.0  \n253678        5.0     1.0  \n253679        6.0     2.0  \n\n[253680 rows x 22 columns]\n"
        }
      ],
      "execution_count": 18,
      "metadata": {
        "jupyter": {
          "source_hidden": false,
          "outputs_hidden": false
        },
        "nteract": {
          "transient": {
            "deleting": false
          }
        },
        "gather": {
          "logged": 1733652160478
        }
      }
    },
    {
      "cell_type": "code",
      "source": [],
      "outputs": [],
      "execution_count": null,
      "metadata": {
        "jupyter": {
          "source_hidden": false,
          "outputs_hidden": false
        },
        "nteract": {
          "transient": {
            "deleting": false
          }
        }
      }
    }
  ],
  "metadata": {
    "kernelspec": {
      "name": "synapse_pyspark",
      "language": "Python",
      "display_name": "Synapse PySpark"
    },
    "language_info": {
      "name": "python",
      "version": "3.8.0",
      "mimetype": "text/x-python",
      "file_extension": ".py",
      "pygments_lexer": "ipython",
      "codemirror_mode": "ipython",
      "nbconvert_exporter": "python"
    },
    "microsoft": {
      "ms_spell_check": {
        "ms_spell_check_language": "en"
      },
      "host": {
        "AzureML": {
          "notebookHasBeenCompleted": true
        }
      }
    },
    "kernel_info": {
      "name": "synapse_pyspark"
    },
    "nteract": {
      "version": "nteract-front-end@1.0.0"
    }
  },
  "nbformat": 4,
  "nbformat_minor": 2
}