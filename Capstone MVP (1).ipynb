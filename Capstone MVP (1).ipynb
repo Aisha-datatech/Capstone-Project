{
  "cells": [
    {
      "cell_type": "code",
      "source": [
        "import pandas as pd\n",
        "import matplotlib.pyplot as plt\n",
        "import seaborn as sns\n",
        "from sklearn.preprocessing import OneHotEncoder\n",
        "from sklearn.preprocessing import StandardScaler\n",
        "from sklearn.model_selection import train_test_split\n",
        "from sklearn.linear_model import LogisticRegression\n",
        "from sklearn.metrics import classification_report, accuracy_score\n",
        "from sklearn.metrics import confusion_matrix, ConfusionMatrixDisplay"
      ],
      "outputs": [
        {
          "output_type": "display_data",
          "data": {
            "application/vnd.livy.statement-meta+json": {
              "spark_pool": "032aaaac-60b2-43cf-93c8-66d12faea0c0",
              "statement_id": 62,
              "statement_ids": [
                62
              ],
              "state": "finished",
              "livy_statement_state": "available",
              "spark_jobs": {
                "numbers": {
                  "FAILED": 0,
                  "RUNNING": 0,
                  "UNKNOWN": 0,
                  "SUCCEEDED": 0
                },
                "jobs": [],
                "limit": 20,
                "rule": "ALL_DESC"
              },
              "session_id": "10",
              "normalized_state": "finished",
              "queued_time": "2024-12-15T03:19:17.2741613Z",
              "session_start_time": null,
              "execution_start_time": "2024-12-15T03:19:17.480714Z",
              "execution_finish_time": "2024-12-15T03:19:17.7966151Z",
              "parent_msg_id": "d6871581-53ea-448b-b8c0-6b1d253a67f9"
            },
            "text/plain": "StatementMeta(032aaaac-60b2-43cf-93c8-66d12faea0c0, 10, 62, Finished, Available, Finished)"
          },
          "metadata": {}
        }
      ],
      "execution_count": 57,
      "metadata": {
        "gather": {
          "logged": 1734232757928
        }
      }
    },
    {
      "cell_type": "markdown",
      "source": [
        "**FIRST DATASET**"
      ],
      "metadata": {
        "nteract": {
          "transient": {
            "deleting": false
          }
        }
      }
    },
    {
      "cell_type": "code",
      "source": [
        "#load and print dataset\n",
        "\n",
        "heart = pd.read_csv(\"Users/amohammad4/heart_statlog_cleveland_hungary_final.csv\")  \n",
        "print(heart) \n"
      ],
      "outputs": [
        {
          "output_type": "display_data",
          "data": {
            "application/vnd.livy.statement-meta+json": {
              "spark_pool": "032aaaac-60b2-43cf-93c8-66d12faea0c0",
              "statement_id": 7,
              "statement_ids": [
                7
              ],
              "state": "finished",
              "livy_statement_state": "available",
              "spark_jobs": {
                "numbers": {
                  "FAILED": 0,
                  "RUNNING": 0,
                  "UNKNOWN": 0,
                  "SUCCEEDED": 0
                },
                "jobs": [],
                "limit": 20,
                "rule": "ALL_DESC"
              },
              "session_id": "10",
              "normalized_state": "finished",
              "queued_time": "2024-12-15T02:27:57.7267925Z",
              "session_start_time": null,
              "execution_start_time": "2024-12-15T02:27:58.0197195Z",
              "execution_finish_time": "2024-12-15T02:27:58.8837463Z",
              "parent_msg_id": "5805aab5-ceea-4b8e-a60f-b9bbab08126e"
            },
            "text/plain": "StatementMeta(032aaaac-60b2-43cf-93c8-66d12faea0c0, 10, 7, Finished, Available, Finished)"
          },
          "metadata": {}
        },
        {
          "output_type": "stream",
          "name": "stdout",
          "text": "      age  sex  chest pain type  resting bp s  cholesterol  \\\n0      40    1                2           140          289   \n1      49    0                3           160          180   \n2      37    1                2           130          283   \n3      48    0                4           138          214   \n4      54    1                3           150          195   \n...   ...  ...              ...           ...          ...   \n1185   45    1                1           110          264   \n1186   68    1                4           144          193   \n1187   57    1                4           130          131   \n1188   57    0                2           130          236   \n1189   38    1                3           138          175   \n\n      fasting blood sugar  resting ecg  max heart rate  exercise angina  \\\n0                       0            0             172                0   \n1                       0            0             156                0   \n2                       0            1              98                0   \n3                       0            0             108                1   \n4                       0            0             122                0   \n...                   ...          ...             ...              ...   \n1185                    0            0             132                0   \n1186                    1            0             141                0   \n1187                    0            0             115                1   \n1188                    0            2             174                0   \n1189                    0            0             173                0   \n\n      oldpeak  ST slope  target  \n0         0.0         1       0  \n1         1.0         2       1  \n2         0.0         1       0  \n3         1.5         2       1  \n4         0.0         1       0  \n...       ...       ...     ...  \n1185      1.2         2       1  \n1186      3.4         2       1  \n1187      1.2         2       1  \n1188      0.0         2       1  \n1189      0.0         1       0  \n\n[1190 rows x 12 columns]\n"
        }
      ],
      "execution_count": 2,
      "metadata": {
        "jupyter": {
          "source_hidden": false,
          "outputs_hidden": false
        },
        "nteract": {
          "transient": {
            "deleting": false
          }
        },
        "gather": {
          "logged": 1734229678930
        }
      }
    },
    {
      "cell_type": "code",
      "source": [
        "print(heart.info())\n",
        "print(heart.head())"
      ],
      "outputs": [
        {
          "output_type": "display_data",
          "data": {
            "application/vnd.livy.statement-meta+json": {
              "spark_pool": "032aaaac-60b2-43cf-93c8-66d12faea0c0",
              "statement_id": 8,
              "statement_ids": [
                8
              ],
              "state": "finished",
              "livy_statement_state": "available",
              "spark_jobs": {
                "numbers": {
                  "FAILED": 0,
                  "RUNNING": 0,
                  "UNKNOWN": 0,
                  "SUCCEEDED": 0
                },
                "jobs": [],
                "limit": 20,
                "rule": "ALL_DESC"
              },
              "session_id": "10",
              "normalized_state": "finished",
              "queued_time": "2024-12-15T02:28:01.9552472Z",
              "session_start_time": null,
              "execution_start_time": "2024-12-15T02:28:02.1233825Z",
              "execution_finish_time": "2024-12-15T02:28:02.4361077Z",
              "parent_msg_id": "b80ebc30-50bd-428b-b4fd-48d7c46289eb"
            },
            "text/plain": "StatementMeta(032aaaac-60b2-43cf-93c8-66d12faea0c0, 10, 8, Finished, Available, Finished)"
          },
          "metadata": {}
        },
        {
          "output_type": "stream",
          "name": "stdout",
          "text": "<class 'pandas.core.frame.DataFrame'>\nRangeIndex: 1190 entries, 0 to 1189\nData columns (total 12 columns):\n #   Column               Non-Null Count  Dtype  \n---  ------               --------------  -----  \n 0   age                  1190 non-null   int64  \n 1   sex                  1190 non-null   int64  \n 2   chest pain type      1190 non-null   int64  \n 3   resting bp s         1190 non-null   int64  \n 4   cholesterol          1190 non-null   int64  \n 5   fasting blood sugar  1190 non-null   int64  \n 6   resting ecg          1190 non-null   int64  \n 7   max heart rate       1190 non-null   int64  \n 8   exercise angina      1190 non-null   int64  \n 9   oldpeak              1190 non-null   float64\n 10  ST slope             1190 non-null   int64  \n 11  target               1190 non-null   int64  \ndtypes: float64(1), int64(11)\nmemory usage: 111.7 KB\nNone\n   age  sex  chest pain type  resting bp s  cholesterol  fasting blood sugar  \\\n0   40    1                2           140          289                    0   \n1   49    0                3           160          180                    0   \n2   37    1                2           130          283                    0   \n3   48    0                4           138          214                    0   \n4   54    1                3           150          195                    0   \n\n   resting ecg  max heart rate  exercise angina  oldpeak  ST slope  target  \n0            0             172                0      0.0         1       0  \n1            0             156                0      1.0         2       1  \n2            1              98                0      0.0         1       0  \n3            0             108                1      1.5         2       1  \n4            0             122                0      0.0         1       0  \n"
        }
      ],
      "execution_count": 3,
      "metadata": {
        "jupyter": {
          "source_hidden": false,
          "outputs_hidden": true
        },
        "nteract": {
          "transient": {
            "deleting": false
          }
        },
        "gather": {
          "logged": 1734229682523
        }
      }
    },
    {
      "cell_type": "code",
      "source": [
        "heart.isnull().sum()"
      ],
      "outputs": [
        {
          "output_type": "display_data",
          "data": {
            "application/vnd.livy.statement-meta+json": {
              "spark_pool": "032aaaac-60b2-43cf-93c8-66d12faea0c0",
              "statement_id": 9,
              "statement_ids": [
                9
              ],
              "state": "finished",
              "livy_statement_state": "available",
              "spark_jobs": {
                "numbers": {
                  "FAILED": 0,
                  "RUNNING": 0,
                  "UNKNOWN": 0,
                  "SUCCEEDED": 0
                },
                "jobs": [],
                "limit": 20,
                "rule": "ALL_DESC"
              },
              "session_id": "10",
              "normalized_state": "finished",
              "queued_time": "2024-12-15T02:28:09.3130291Z",
              "session_start_time": null,
              "execution_start_time": "2024-12-15T02:28:09.4542772Z",
              "execution_finish_time": "2024-12-15T02:28:10.5803462Z",
              "parent_msg_id": "e748e975-989e-42e6-a5c8-8c49c8aae283"
            },
            "text/plain": "StatementMeta(032aaaac-60b2-43cf-93c8-66d12faea0c0, 10, 9, Finished, Available, Finished)"
          },
          "metadata": {}
        },
        {
          "output_type": "execute_result",
          "execution_count": 17,
          "data": {
            "text/plain": "age                    0\nsex                    0\nchest pain type        0\nresting bp s           0\ncholesterol            0\nfasting blood sugar    0\nresting ecg            0\nmax heart rate         0\nexercise angina        0\noldpeak                0\nST slope               0\ntarget                 0\ndtype: int64"
          },
          "metadata": {}
        }
      ],
      "execution_count": 4,
      "metadata": {
        "jupyter": {
          "source_hidden": false,
          "outputs_hidden": false
        },
        "nteract": {
          "transient": {
            "deleting": false
          }
        },
        "gather": {
          "logged": 1734229690677
        }
      }
    },
    {
      "cell_type": "code",
      "source": [
        "# standardize numerical data\n",
        "columns_standardise= ['age','resting bp s', 'cholesterol','max heart rate']\n",
        "\n",
        "scaler = StandardScaler()\n",
        "heart[columns_standardise] = scaler.fit_transform(heart[columns_standardise])\n",
        "\n",
        "\n",
        "print(heart[columns_standardise].head())"
      ],
      "outputs": [
        {
          "output_type": "display_data",
          "data": {
            "application/vnd.livy.statement-meta+json": {
              "spark_pool": "032aaaac-60b2-43cf-93c8-66d12faea0c0",
              "statement_id": 35,
              "statement_ids": [
                35
              ],
              "state": "finished",
              "livy_statement_state": "available",
              "spark_jobs": {
                "numbers": {
                  "FAILED": 0,
                  "RUNNING": 0,
                  "UNKNOWN": 0,
                  "SUCCEEDED": 0
                },
                "jobs": [],
                "limit": 20,
                "rule": "ALL_DESC"
              },
              "session_id": "10",
              "normalized_state": "finished",
              "queued_time": "2024-12-15T02:51:51.9334348Z",
              "session_start_time": null,
              "execution_start_time": "2024-12-15T02:51:52.1057111Z",
              "execution_finish_time": "2024-12-15T02:51:52.4055471Z",
              "parent_msg_id": "9b8f689a-0050-4217-8225-8e6802bb73b6"
            },
            "text/plain": "StatementMeta(032aaaac-60b2-43cf-93c8-66d12faea0c0, 10, 35, Finished, Available, Finished)"
          },
          "metadata": {}
        },
        {
          "output_type": "stream",
          "name": "stdout",
          "text": "        age  resting bp s  cholesterol  max heart rate\n0 -1.466728      0.427328     0.775674        1.265039\n1 -0.504600      1.516587    -0.299512        0.637758\n2 -1.787437     -0.117301     0.716489       -1.636136\n3 -0.611503      0.318402     0.035867       -1.244085\n4  0.029915      0.971958    -0.151550       -0.695214\n"
        }
      ],
      "execution_count": 30,
      "metadata": {
        "jupyter": {
          "source_hidden": false,
          "outputs_hidden": false
        },
        "nteract": {
          "transient": {
            "deleting": false
          }
        },
        "gather": {
          "logged": 1734231112520
        }
      }
    },
    {
      "cell_type": "code",
      "source": [
        "heart.head()"
      ],
      "outputs": [
        {
          "output_type": "display_data",
          "data": {
            "application/vnd.livy.statement-meta+json": {
              "spark_pool": "032aaaac-60b2-43cf-93c8-66d12faea0c0",
              "statement_id": 36,
              "statement_ids": [
                36
              ],
              "state": "finished",
              "livy_statement_state": "available",
              "spark_jobs": {
                "numbers": {
                  "FAILED": 0,
                  "RUNNING": 0,
                  "UNKNOWN": 0,
                  "SUCCEEDED": 0
                },
                "jobs": [],
                "limit": 20,
                "rule": "ALL_DESC"
              },
              "session_id": "10",
              "normalized_state": "finished",
              "queued_time": "2024-12-15T02:52:07.2925882Z",
              "session_start_time": null,
              "execution_start_time": "2024-12-15T02:52:07.4424993Z",
              "execution_finish_time": "2024-12-15T02:52:07.7411074Z",
              "parent_msg_id": "45b3dba8-32d9-44c8-bf1a-3c1f22c225d8"
            },
            "text/plain": "StatementMeta(032aaaac-60b2-43cf-93c8-66d12faea0c0, 10, 36, Finished, Available, Finished)"
          },
          "metadata": {}
        },
        {
          "output_type": "execute_result",
          "execution_count": 71,
          "data": {
            "text/plain": "        age  sex  chest pain type  resting bp s  cholesterol  \\\n0 -1.466728    1                2      0.427328     0.775674   \n1 -0.504600    0                3      1.516587    -0.299512   \n2 -1.787437    1                2     -0.117301     0.716489   \n3 -0.611503    0                4      0.318402     0.035867   \n4  0.029915    1                3      0.971958    -0.151550   \n\n   fasting blood sugar  resting ecg  max heart rate  exercise angina  oldpeak  \\\n0                    0            0        1.265039                0      0.0   \n1                    0            0        0.637758                0      1.0   \n2                    0            1       -1.636136                0      0.0   \n3                    0            0       -1.244085                1      1.5   \n4                    0            0       -0.695214                0      0.0   \n\n   ST slope  target  \n0         1       0  \n1         2       1  \n2         1       0  \n3         2       1  \n4         1       0  ",
            "text/html": "<div>\n<style scoped>\n    .dataframe tbody tr th:only-of-type {\n        vertical-align: middle;\n    }\n\n    .dataframe tbody tr th {\n        vertical-align: top;\n    }\n\n    .dataframe thead th {\n        text-align: right;\n    }\n</style>\n<table border=\"1\" class=\"dataframe\">\n  <thead>\n    <tr style=\"text-align: right;\">\n      <th></th>\n      <th>age</th>\n      <th>sex</th>\n      <th>chest pain type</th>\n      <th>resting bp s</th>\n      <th>cholesterol</th>\n      <th>fasting blood sugar</th>\n      <th>resting ecg</th>\n      <th>max heart rate</th>\n      <th>exercise angina</th>\n      <th>oldpeak</th>\n      <th>ST slope</th>\n      <th>target</th>\n    </tr>\n  </thead>\n  <tbody>\n    <tr>\n      <th>0</th>\n      <td>-1.466728</td>\n      <td>1</td>\n      <td>2</td>\n      <td>0.427328</td>\n      <td>0.775674</td>\n      <td>0</td>\n      <td>0</td>\n      <td>1.265039</td>\n      <td>0</td>\n      <td>0.0</td>\n      <td>1</td>\n      <td>0</td>\n    </tr>\n    <tr>\n      <th>1</th>\n      <td>-0.504600</td>\n      <td>0</td>\n      <td>3</td>\n      <td>1.516587</td>\n      <td>-0.299512</td>\n      <td>0</td>\n      <td>0</td>\n      <td>0.637758</td>\n      <td>0</td>\n      <td>1.0</td>\n      <td>2</td>\n      <td>1</td>\n    </tr>\n    <tr>\n      <th>2</th>\n      <td>-1.787437</td>\n      <td>1</td>\n      <td>2</td>\n      <td>-0.117301</td>\n      <td>0.716489</td>\n      <td>0</td>\n      <td>1</td>\n      <td>-1.636136</td>\n      <td>0</td>\n      <td>0.0</td>\n      <td>1</td>\n      <td>0</td>\n    </tr>\n    <tr>\n      <th>3</th>\n      <td>-0.611503</td>\n      <td>0</td>\n      <td>4</td>\n      <td>0.318402</td>\n      <td>0.035867</td>\n      <td>0</td>\n      <td>0</td>\n      <td>-1.244085</td>\n      <td>1</td>\n      <td>1.5</td>\n      <td>2</td>\n      <td>1</td>\n    </tr>\n    <tr>\n      <th>4</th>\n      <td>0.029915</td>\n      <td>1</td>\n      <td>3</td>\n      <td>0.971958</td>\n      <td>-0.151550</td>\n      <td>0</td>\n      <td>0</td>\n      <td>-0.695214</td>\n      <td>0</td>\n      <td>0.0</td>\n      <td>1</td>\n      <td>0</td>\n    </tr>\n  </tbody>\n</table>\n</div>"
          },
          "metadata": {}
        }
      ],
      "execution_count": 31,
      "metadata": {
        "jupyter": {
          "source_hidden": false,
          "outputs_hidden": false
        },
        "nteract": {
          "transient": {
            "deleting": false
          }
        },
        "gather": {
          "logged": 1734231128057
        }
      }
    },
    {
      "cell_type": "markdown",
      "source": [
        "**SECOND DATASET**"
      ],
      "metadata": {
        "nteract": {
          "transient": {
            "deleting": false
          }
        }
      }
    },
    {
      "cell_type": "code",
      "source": [
        "data_2 = 'Users/amohammad4/diabetes_binary_health_indicators_BRFSS2015.csv'  # File name as a string\n",
        "lifestyle = pd.read_csv(data_2)  # Load the dataset\n",
        "print(lifestyle)  # Print the dataset"
      ],
      "outputs": [
        {
          "output_type": "display_data",
          "data": {
            "application/vnd.livy.statement-meta+json": {
              "spark_pool": "032aaaac-60b2-43cf-93c8-66d12faea0c0",
              "statement_id": 8,
              "statement_ids": [
                8
              ],
              "state": "finished",
              "livy_statement_state": "available",
              "spark_jobs": {
                "numbers": {
                  "UNKNOWN": 0,
                  "RUNNING": 0,
                  "SUCCEEDED": 0,
                  "FAILED": 0
                },
                "jobs": [],
                "limit": 20,
                "rule": "ALL_DESC"
              },
              "session_id": "9",
              "normalized_state": "finished",
              "queued_time": "2024-12-14T21:14:14.3957983Z",
              "session_start_time": null,
              "execution_start_time": "2024-12-14T21:14:14.6439099Z",
              "execution_finish_time": "2024-12-14T21:14:16.1791533Z",
              "parent_msg_id": "f8594b2d-a6b2-44a9-9ad4-34a2948c0480"
            },
            "text/plain": "StatementMeta(032aaaac-60b2-43cf-93c8-66d12faea0c0, 9, 8, Finished, Available, Finished)"
          },
          "metadata": {}
        },
        {
          "output_type": "stream",
          "name": "stdout",
          "text": "        Diabetes_binary  HighBP  HighChol  CholCheck   BMI  Smoker  Stroke  \\\n0                   0.0     1.0       1.0        1.0  40.0     1.0     0.0   \n1                   0.0     0.0       0.0        0.0  25.0     1.0     0.0   \n2                   0.0     1.0       1.0        1.0  28.0     0.0     0.0   \n3                   0.0     1.0       0.0        1.0  27.0     0.0     0.0   \n4                   0.0     1.0       1.0        1.0  24.0     0.0     0.0   \n...                 ...     ...       ...        ...   ...     ...     ...   \n253675              0.0     1.0       1.0        1.0  45.0     0.0     0.0   \n253676              1.0     1.0       1.0        1.0  18.0     0.0     0.0   \n253677              0.0     0.0       0.0        1.0  28.0     0.0     0.0   \n253678              0.0     1.0       0.0        1.0  23.0     0.0     0.0   \n253679              1.0     1.0       1.0        1.0  25.0     0.0     0.0   \n\n        HeartDiseaseorAttack  PhysActivity  Fruits  ...  AnyHealthcare  \\\n0                        0.0           0.0     0.0  ...            1.0   \n1                        0.0           1.0     0.0  ...            0.0   \n2                        0.0           0.0     1.0  ...            1.0   \n3                        0.0           1.0     1.0  ...            1.0   \n4                        0.0           1.0     1.0  ...            1.0   \n...                      ...           ...     ...  ...            ...   \n253675                   0.0           0.0     1.0  ...            1.0   \n253676                   0.0           0.0     0.0  ...            1.0   \n253677                   0.0           1.0     1.0  ...            1.0   \n253678                   0.0           0.0     1.0  ...            1.0   \n253679                   1.0           1.0     1.0  ...            1.0   \n\n        NoDocbcCost  GenHlth  MentHlth  PhysHlth  DiffWalk  Sex   Age  \\\n0               0.0      5.0      18.0      15.0       1.0  0.0   9.0   \n1               1.0      3.0       0.0       0.0       0.0  0.0   7.0   \n2               1.0      5.0      30.0      30.0       1.0  0.0   9.0   \n3               0.0      2.0       0.0       0.0       0.0  0.0  11.0   \n4               0.0      2.0       3.0       0.0       0.0  0.0  11.0   \n...             ...      ...       ...       ...       ...  ...   ...   \n253675          0.0      3.0       0.0       5.0       0.0  1.0   5.0   \n253676          0.0      4.0       0.0       0.0       1.0  0.0  11.0   \n253677          0.0      1.0       0.0       0.0       0.0  0.0   2.0   \n253678          0.0      3.0       0.0       0.0       0.0  1.0   7.0   \n253679          0.0      2.0       0.0       0.0       0.0  0.0   9.0   \n\n        Education  Income  \n0             4.0     3.0  \n1             6.0     1.0  \n2             4.0     8.0  \n3             3.0     6.0  \n4             5.0     4.0  \n...           ...     ...  \n253675        6.0     7.0  \n253676        2.0     4.0  \n253677        5.0     2.0  \n253678        5.0     1.0  \n253679        6.0     2.0  \n\n[253680 rows x 22 columns]\n"
        }
      ],
      "execution_count": 3,
      "metadata": {
        "jupyter": {
          "source_hidden": false,
          "outputs_hidden": false
        },
        "nteract": {
          "transient": {
            "deleting": false
          }
        },
        "gather": {
          "logged": 1734210856294
        }
      }
    },
    {
      "cell_type": "code",
      "source": [
        "print(lifestyle.info())\n",
        "print(lifestyle.head())"
      ],
      "outputs": [
        {
          "output_type": "display_data",
          "data": {
            "application/vnd.livy.statement-meta+json": {
              "spark_pool": "032aaaac-60b2-43cf-93c8-66d12faea0c0",
              "statement_id": 10,
              "statement_ids": [
                10
              ],
              "state": "finished",
              "livy_statement_state": "available",
              "spark_jobs": {
                "numbers": {
                  "UNKNOWN": 0,
                  "RUNNING": 0,
                  "SUCCEEDED": 0,
                  "FAILED": 0
                },
                "jobs": [],
                "limit": 20,
                "rule": "ALL_DESC"
              },
              "session_id": "9",
              "normalized_state": "finished",
              "queued_time": "2024-12-14T21:15:09.2783072Z",
              "session_start_time": null,
              "execution_start_time": "2024-12-14T21:15:09.4431587Z",
              "execution_finish_time": "2024-12-14T21:15:09.7449772Z",
              "parent_msg_id": "2581a730-f73f-4bd3-a4d9-3d013f4f50e7"
            },
            "text/plain": "StatementMeta(032aaaac-60b2-43cf-93c8-66d12faea0c0, 9, 10, Finished, Available, Finished)"
          },
          "metadata": {}
        },
        {
          "output_type": "stream",
          "name": "stdout",
          "text": "<class 'pandas.core.frame.DataFrame'>\nRangeIndex: 253680 entries, 0 to 253679\nData columns (total 22 columns):\n #   Column                Non-Null Count   Dtype  \n---  ------                --------------   -----  \n 0   Diabetes_binary       253680 non-null  float64\n 1   HighBP                253680 non-null  float64\n 2   HighChol              253680 non-null  float64\n 3   CholCheck             253680 non-null  float64\n 4   BMI                   253680 non-null  float64\n 5   Smoker                253680 non-null  float64\n 6   Stroke                253680 non-null  float64\n 7   HeartDiseaseorAttack  253680 non-null  float64\n 8   PhysActivity          253680 non-null  float64\n 9   Fruits                253680 non-null  float64\n 10  Veggies               253680 non-null  float64\n 11  HvyAlcoholConsump     253680 non-null  float64\n 12  AnyHealthcare         253680 non-null  float64\n 13  NoDocbcCost           253680 non-null  float64\n 14  GenHlth               253680 non-null  float64\n 15  MentHlth              253680 non-null  float64\n 16  PhysHlth              253680 non-null  float64\n 17  DiffWalk              253680 non-null  float64\n 18  Sex                   253680 non-null  float64\n 19  Age                   253680 non-null  float64\n 20  Education             253680 non-null  float64\n 21  Income                253680 non-null  float64\ndtypes: float64(22)\nmemory usage: 42.6 MB\nNone\n   Diabetes_binary  HighBP  HighChol  CholCheck   BMI  Smoker  Stroke  \\\n0              0.0     1.0       1.0        1.0  40.0     1.0     0.0   \n1              0.0     0.0       0.0        0.0  25.0     1.0     0.0   \n2              0.0     1.0       1.0        1.0  28.0     0.0     0.0   \n3              0.0     1.0       0.0        1.0  27.0     0.0     0.0   \n4              0.0     1.0       1.0        1.0  24.0     0.0     0.0   \n\n   HeartDiseaseorAttack  PhysActivity  Fruits  ...  AnyHealthcare  \\\n0                   0.0           0.0     0.0  ...            1.0   \n1                   0.0           1.0     0.0  ...            0.0   \n2                   0.0           0.0     1.0  ...            1.0   \n3                   0.0           1.0     1.0  ...            1.0   \n4                   0.0           1.0     1.0  ...            1.0   \n\n   NoDocbcCost  GenHlth  MentHlth  PhysHlth  DiffWalk  Sex   Age  Education  \\\n0          0.0      5.0      18.0      15.0       1.0  0.0   9.0        4.0   \n1          1.0      3.0       0.0       0.0       0.0  0.0   7.0        6.0   \n2          1.0      5.0      30.0      30.0       1.0  0.0   9.0        4.0   \n3          0.0      2.0       0.0       0.0       0.0  0.0  11.0        3.0   \n4          0.0      2.0       3.0       0.0       0.0  0.0  11.0        5.0   \n\n   Income  \n0     3.0  \n1     1.0  \n2     8.0  \n3     6.0  \n4     4.0  \n\n[5 rows x 22 columns]\n"
        }
      ],
      "execution_count": 5,
      "metadata": {
        "jupyter": {
          "source_hidden": false,
          "outputs_hidden": false
        },
        "nteract": {
          "transient": {
            "deleting": false
          }
        },
        "gather": {
          "logged": 1734210909880
        }
      }
    },
    {
      "cell_type": "code",
      "source": [
        "lifestyle.isnull().sum()"
      ],
      "outputs": [],
      "execution_count": null,
      "metadata": {
        "jupyter": {
          "source_hidden": false,
          "outputs_hidden": false
        },
        "nteract": {
          "transient": {
            "deleting": false
          }
        }
      }
    },
    {
      "cell_type": "code",
      "source": [
        "# Standardize nuerical columns\n",
        "columns_to_scale = ['BMI', 'MentHlth', 'PhysHlth']"
      ],
      "outputs": [],
      "execution_count": null,
      "metadata": {
        "jupyter": {
          "source_hidden": false,
          "outputs_hidden": false
        },
        "nteract": {
          "transient": {
            "deleting": false
          }
        }
      }
    },
    {
      "cell_type": "code",
      "source": [
        "scaler = StandardScaler()\n",
        "lifestyle[columns_to_scale] = scaler.fit_transform(lifestyle[columns_to_scale])\n",
        "\n",
        "\n",
        "print(lifestyle[columns_to_scale].head())"
      ],
      "outputs": [
        {
          "output_type": "display_data",
          "data": {
            "application/vnd.livy.statement-meta+json": {
              "spark_pool": "032aaaac-60b2-43cf-93c8-66d12faea0c0",
              "statement_id": 34,
              "statement_ids": [
                34
              ],
              "state": "finished",
              "livy_statement_state": "available",
              "spark_jobs": {
                "numbers": {
                  "FAILED": 0,
                  "RUNNING": 0,
                  "UNKNOWN": 0,
                  "SUCCEEDED": 0
                },
                "jobs": [],
                "limit": 20,
                "rule": "ALL_DESC"
              },
              "session_id": "10",
              "normalized_state": "finished",
              "queued_time": "2024-12-15T02:51:16.4822955Z",
              "session_start_time": null,
              "execution_start_time": "2024-12-15T02:51:16.6255091Z",
              "execution_finish_time": "2024-12-15T02:51:16.9501125Z",
              "parent_msg_id": "62581c6b-adbc-4264-b559-e0d7668448b2"
            },
            "text/plain": "StatementMeta(032aaaac-60b2-43cf-93c8-66d12faea0c0, 10, 34, Finished, Available, Finished)"
          },
          "metadata": {}
        },
        {
          "output_type": "stream",
          "name": "stdout",
          "text": "        BMI  MentHlth  PhysHlth\n0  1.757936  1.998592  1.233999\n1 -0.511806 -0.429630 -0.486592\n2 -0.057858  3.617407  2.954590\n3 -0.209174 -0.429630 -0.486592\n4 -0.663122 -0.024926 -0.486592\n"
        }
      ],
      "execution_count": 29,
      "metadata": {
        "jupyter": {
          "source_hidden": false,
          "outputs_hidden": false
        },
        "nteract": {
          "transient": {
            "deleting": false
          }
        },
        "gather": {
          "logged": 1734231077066
        }
      }
    },
    {
      "cell_type": "markdown",
      "source": [],
      "metadata": {
        "nteract": {
          "transient": {
            "deleting": false
          }
        }
      }
    },
    {
      "cell_type": "code",
      "source": [
        "# Check shapes of datasets before concatenation\n",
        "print(heart.shape, lifestyle.shape)\n"
      ],
      "outputs": [
        {
          "output_type": "display_data",
          "data": {
            "application/vnd.livy.statement-meta+json": {
              "spark_pool": "032aaaac-60b2-43cf-93c8-66d12faea0c0",
              "statement_id": 37,
              "statement_ids": [
                37
              ],
              "state": "finished",
              "livy_statement_state": "available",
              "spark_jobs": {
                "numbers": {
                  "FAILED": 0,
                  "RUNNING": 0,
                  "UNKNOWN": 0,
                  "SUCCEEDED": 0
                },
                "jobs": [],
                "limit": 20,
                "rule": "ALL_DESC"
              },
              "session_id": "10",
              "normalized_state": "finished",
              "queued_time": "2024-12-15T02:53:05.3216308Z",
              "session_start_time": null,
              "execution_start_time": "2024-12-15T02:53:05.4459102Z",
              "execution_finish_time": "2024-12-15T02:53:05.7552503Z",
              "parent_msg_id": "e8a51485-b0fb-4549-8202-565f85f20996"
            },
            "text/plain": "StatementMeta(032aaaac-60b2-43cf-93c8-66d12faea0c0, 10, 37, Finished, Available, Finished)"
          },
          "metadata": {}
        },
        {
          "output_type": "stream",
          "name": "stdout",
          "text": "(1190, 12) (253680, 22)\n"
        }
      ],
      "execution_count": 32,
      "metadata": {
        "jupyter": {
          "source_hidden": false,
          "outputs_hidden": false
        },
        "nteract": {
          "transient": {
            "deleting": false
          }
        },
        "gather": {
          "logged": 1734231185928
        }
      }
    },
    {
      "cell_type": "code",
      "source": [
        "# upsample heart dataset to match number of rows of lifestyle dataset.\n",
        "from sklearn.utils import resample\n",
        "\n",
        "heart_upsampled = resample(heart,\n",
        "                                     replace=True,     \n",
        "                                     n_samples=lifestyle.shape[0], \n",
        "                                     random_state=42)\n",
        "\n",
        "heart_upsampled.shape"
      ],
      "outputs": [
        {
          "output_type": "display_data",
          "data": {
            "application/vnd.livy.statement-meta+json": {
              "spark_pool": "032aaaac-60b2-43cf-93c8-66d12faea0c0",
              "statement_id": 40,
              "statement_ids": [
                40
              ],
              "state": "finished",
              "livy_statement_state": "available",
              "spark_jobs": {
                "numbers": {
                  "FAILED": 0,
                  "RUNNING": 0,
                  "UNKNOWN": 0,
                  "SUCCEEDED": 0
                },
                "jobs": [],
                "limit": 20,
                "rule": "ALL_DESC"
              },
              "session_id": "10",
              "normalized_state": "finished",
              "queued_time": "2024-12-15T02:55:12.8533312Z",
              "session_start_time": null,
              "execution_start_time": "2024-12-15T02:55:13.0087645Z",
              "execution_finish_time": "2024-12-15T02:55:13.325477Z",
              "parent_msg_id": "abe7c5e2-c692-4f68-827a-886a11525cf9"
            },
            "text/plain": "StatementMeta(032aaaac-60b2-43cf-93c8-66d12faea0c0, 10, 40, Finished, Available, Finished)"
          },
          "metadata": {}
        },
        {
          "output_type": "execute_result",
          "execution_count": 79,
          "data": {
            "text/plain": "(253680, 12)"
          },
          "metadata": {}
        }
      ],
      "execution_count": 35,
      "metadata": {
        "jupyter": {
          "source_hidden": false,
          "outputs_hidden": false
        },
        "nteract": {
          "transient": {
            "deleting": false
          }
        },
        "gather": {
          "logged": 1734231313419
        }
      }
    },
    {
      "cell_type": "code",
      "source": [
        "#reset index\n",
        "heart_upsampled_reset = heart_upsampled.reset_index(drop=True)\n",
        "lifestyle_reset = lifestyle.reset_index(drop=True)\n"
      ],
      "outputs": [
        {
          "output_type": "display_data",
          "data": {
            "application/vnd.livy.statement-meta+json": {
              "spark_pool": "032aaaac-60b2-43cf-93c8-66d12faea0c0",
              "statement_id": 48,
              "statement_ids": [
                48
              ],
              "state": "finished",
              "livy_statement_state": "available",
              "spark_jobs": {
                "numbers": {
                  "FAILED": 0,
                  "RUNNING": 0,
                  "UNKNOWN": 0,
                  "SUCCEEDED": 0
                },
                "jobs": [],
                "limit": 20,
                "rule": "ALL_DESC"
              },
              "session_id": "10",
              "normalized_state": "finished",
              "queued_time": "2024-12-15T03:06:47.7370355Z",
              "session_start_time": null,
              "execution_start_time": "2024-12-15T03:06:47.8582658Z",
              "execution_finish_time": "2024-12-15T03:06:48.1575267Z",
              "parent_msg_id": "05dd2052-082a-4f27-b335-adb82780e4d1"
            },
            "text/plain": "StatementMeta(032aaaac-60b2-43cf-93c8-66d12faea0c0, 10, 48, Finished, Available, Finished)"
          },
          "metadata": {}
        }
      ],
      "execution_count": 43,
      "metadata": {
        "jupyter": {
          "source_hidden": false,
          "outputs_hidden": false
        },
        "nteract": {
          "transient": {
            "deleting": false
          }
        },
        "gather": {
          "logged": 1734232008185
        }
      }
    },
    {
      "cell_type": "code",
      "source": [
        "# Combine the two datasets\n",
        "combined = pd.concat([heart_upsampled_reset, lifestyle_reset], axis=1) "
      ],
      "outputs": [
        {
          "output_type": "display_data",
          "data": {
            "application/vnd.livy.statement-meta+json": {
              "spark_pool": "032aaaac-60b2-43cf-93c8-66d12faea0c0",
              "statement_id": 49,
              "statement_ids": [
                49
              ],
              "state": "finished",
              "livy_statement_state": "available",
              "spark_jobs": {
                "numbers": {
                  "FAILED": 0,
                  "RUNNING": 0,
                  "UNKNOWN": 0,
                  "SUCCEEDED": 0
                },
                "jobs": [],
                "limit": 20,
                "rule": "ALL_DESC"
              },
              "session_id": "10",
              "normalized_state": "finished",
              "queued_time": "2024-12-15T03:06:50.0929252Z",
              "session_start_time": null,
              "execution_start_time": "2024-12-15T03:06:50.210651Z",
              "execution_finish_time": "2024-12-15T03:06:50.5020841Z",
              "parent_msg_id": "8483c605-6cb2-4531-8af2-b230507ea2f7"
            },
            "text/plain": "StatementMeta(032aaaac-60b2-43cf-93c8-66d12faea0c0, 10, 49, Finished, Available, Finished)"
          },
          "metadata": {}
        }
      ],
      "execution_count": 44,
      "metadata": {
        "jupyter": {
          "source_hidden": false,
          "outputs_hidden": false
        },
        "nteract": {
          "transient": {
            "deleting": false
          }
        },
        "gather": {
          "logged": 1734232010542
        }
      }
    },
    {
      "cell_type": "code",
      "source": [
        "combined.head()"
      ],
      "outputs": [
        {
          "output_type": "display_data",
          "data": {
            "application/vnd.livy.statement-meta+json": {
              "spark_pool": "032aaaac-60b2-43cf-93c8-66d12faea0c0",
              "statement_id": 50,
              "statement_ids": [
                50
              ],
              "state": "finished",
              "livy_statement_state": "available",
              "spark_jobs": {
                "numbers": {
                  "FAILED": 0,
                  "RUNNING": 0,
                  "UNKNOWN": 0,
                  "SUCCEEDED": 0
                },
                "jobs": [],
                "limit": 20,
                "rule": "ALL_DESC"
              },
              "session_id": "10",
              "normalized_state": "finished",
              "queued_time": "2024-12-15T03:06:52.4690032Z",
              "session_start_time": null,
              "execution_start_time": "2024-12-15T03:06:52.5982906Z",
              "execution_finish_time": "2024-12-15T03:06:52.9011644Z",
              "parent_msg_id": "10e25b2b-e6e0-4ff8-b6fe-5707e2a31c4b"
            },
            "text/plain": "StatementMeta(032aaaac-60b2-43cf-93c8-66d12faea0c0, 10, 50, Finished, Available, Finished)"
          },
          "metadata": {}
        },
        {
          "output_type": "execute_result",
          "execution_count": 99,
          "data": {
            "text/plain": "        age  sex  chest pain type  resting bp s  cholesterol  \\\n0 -1.252922    1                2     -0.661931     0.834858   \n1  0.885139    0                4      0.427328     0.568528   \n2  0.778236    1                1      0.100551     0.233149   \n3  0.136818    1                2     -0.117301     0.509343   \n4  0.457527    1                4     -0.389616     0.884179   \n\n   fasting blood sugar  resting ecg  max heart rate  exercise angina  oldpeak  \\\n0                    0            0        0.872988                0      0.0   \n1                    0            2        0.794578                0      3.6   \n2                    0            0        0.206502                0      2.6   \n3                    0            0        0.598553                0      0.0   \n4                    0            2        1.225834                0      0.0   \n\n   ...  AnyHealthcare  NoDocbcCost  GenHlth  MentHlth  PhysHlth  DiffWalk  \\\n0  ...            1.0          0.0      5.0  1.998592  1.233999       1.0   \n1  ...            0.0          1.0      3.0 -0.429630 -0.486592       0.0   \n2  ...            1.0          1.0      5.0  3.617407  2.954590       1.0   \n3  ...            1.0          0.0      2.0 -0.429630 -0.486592       0.0   \n4  ...            1.0          0.0      2.0 -0.024926 -0.486592       0.0   \n\n   Sex   Age  Education  Income  \n0  0.0   9.0        4.0     3.0  \n1  0.0   7.0        6.0     1.0  \n2  0.0   9.0        4.0     8.0  \n3  0.0  11.0        3.0     6.0  \n4  0.0  11.0        5.0     4.0  \n\n[5 rows x 34 columns]",
            "text/html": "<div>\n<style scoped>\n    .dataframe tbody tr th:only-of-type {\n        vertical-align: middle;\n    }\n\n    .dataframe tbody tr th {\n        vertical-align: top;\n    }\n\n    .dataframe thead th {\n        text-align: right;\n    }\n</style>\n<table border=\"1\" class=\"dataframe\">\n  <thead>\n    <tr style=\"text-align: right;\">\n      <th></th>\n      <th>age</th>\n      <th>sex</th>\n      <th>chest pain type</th>\n      <th>resting bp s</th>\n      <th>cholesterol</th>\n      <th>fasting blood sugar</th>\n      <th>resting ecg</th>\n      <th>max heart rate</th>\n      <th>exercise angina</th>\n      <th>oldpeak</th>\n      <th>...</th>\n      <th>AnyHealthcare</th>\n      <th>NoDocbcCost</th>\n      <th>GenHlth</th>\n      <th>MentHlth</th>\n      <th>PhysHlth</th>\n      <th>DiffWalk</th>\n      <th>Sex</th>\n      <th>Age</th>\n      <th>Education</th>\n      <th>Income</th>\n    </tr>\n  </thead>\n  <tbody>\n    <tr>\n      <th>0</th>\n      <td>-1.252922</td>\n      <td>1</td>\n      <td>2</td>\n      <td>-0.661931</td>\n      <td>0.834858</td>\n      <td>0</td>\n      <td>0</td>\n      <td>0.872988</td>\n      <td>0</td>\n      <td>0.0</td>\n      <td>...</td>\n      <td>1.0</td>\n      <td>0.0</td>\n      <td>5.0</td>\n      <td>1.998592</td>\n      <td>1.233999</td>\n      <td>1.0</td>\n      <td>0.0</td>\n      <td>9.0</td>\n      <td>4.0</td>\n      <td>3.0</td>\n    </tr>\n    <tr>\n      <th>1</th>\n      <td>0.885139</td>\n      <td>0</td>\n      <td>4</td>\n      <td>0.427328</td>\n      <td>0.568528</td>\n      <td>0</td>\n      <td>2</td>\n      <td>0.794578</td>\n      <td>0</td>\n      <td>3.6</td>\n      <td>...</td>\n      <td>0.0</td>\n      <td>1.0</td>\n      <td>3.0</td>\n      <td>-0.429630</td>\n      <td>-0.486592</td>\n      <td>0.0</td>\n      <td>0.0</td>\n      <td>7.0</td>\n      <td>6.0</td>\n      <td>1.0</td>\n    </tr>\n    <tr>\n      <th>2</th>\n      <td>0.778236</td>\n      <td>1</td>\n      <td>1</td>\n      <td>0.100551</td>\n      <td>0.233149</td>\n      <td>0</td>\n      <td>0</td>\n      <td>0.206502</td>\n      <td>0</td>\n      <td>2.6</td>\n      <td>...</td>\n      <td>1.0</td>\n      <td>1.0</td>\n      <td>5.0</td>\n      <td>3.617407</td>\n      <td>2.954590</td>\n      <td>1.0</td>\n      <td>0.0</td>\n      <td>9.0</td>\n      <td>4.0</td>\n      <td>8.0</td>\n    </tr>\n    <tr>\n      <th>3</th>\n      <td>0.136818</td>\n      <td>1</td>\n      <td>2</td>\n      <td>-0.117301</td>\n      <td>0.509343</td>\n      <td>0</td>\n      <td>0</td>\n      <td>0.598553</td>\n      <td>0</td>\n      <td>0.0</td>\n      <td>...</td>\n      <td>1.0</td>\n      <td>0.0</td>\n      <td>2.0</td>\n      <td>-0.429630</td>\n      <td>-0.486592</td>\n      <td>0.0</td>\n      <td>0.0</td>\n      <td>11.0</td>\n      <td>3.0</td>\n      <td>6.0</td>\n    </tr>\n    <tr>\n      <th>4</th>\n      <td>0.457527</td>\n      <td>1</td>\n      <td>4</td>\n      <td>-0.389616</td>\n      <td>0.884179</td>\n      <td>0</td>\n      <td>2</td>\n      <td>1.225834</td>\n      <td>0</td>\n      <td>0.0</td>\n      <td>...</td>\n      <td>1.0</td>\n      <td>0.0</td>\n      <td>2.0</td>\n      <td>-0.024926</td>\n      <td>-0.486592</td>\n      <td>0.0</td>\n      <td>0.0</td>\n      <td>11.0</td>\n      <td>5.0</td>\n      <td>4.0</td>\n    </tr>\n  </tbody>\n</table>\n<p>5 rows × 34 columns</p>\n</div>"
          },
          "metadata": {}
        }
      ],
      "execution_count": 45,
      "metadata": {
        "jupyter": {
          "source_hidden": false,
          "outputs_hidden": false
        },
        "nteract": {
          "transient": {
            "deleting": false
          }
        },
        "gather": {
          "logged": 1734232013198
        }
      }
    },
    {
      "cell_type": "code",
      "source": [
        "combined.shape"
      ],
      "outputs": [
        {
          "output_type": "display_data",
          "data": {
            "application/vnd.livy.statement-meta+json": {
              "spark_pool": "032aaaac-60b2-43cf-93c8-66d12faea0c0",
              "statement_id": 51,
              "statement_ids": [
                51
              ],
              "state": "finished",
              "livy_statement_state": "available",
              "spark_jobs": {
                "numbers": {
                  "FAILED": 0,
                  "RUNNING": 0,
                  "UNKNOWN": 0,
                  "SUCCEEDED": 0
                },
                "jobs": [],
                "limit": 20,
                "rule": "ALL_DESC"
              },
              "session_id": "10",
              "normalized_state": "finished",
              "queued_time": "2024-12-15T03:06:56.7514121Z",
              "session_start_time": null,
              "execution_start_time": "2024-12-15T03:06:56.8748849Z",
              "execution_finish_time": "2024-12-15T03:06:57.185989Z",
              "parent_msg_id": "e43cf8e1-ce70-4c82-aa31-683249d7fb2b"
            },
            "text/plain": "StatementMeta(032aaaac-60b2-43cf-93c8-66d12faea0c0, 10, 51, Finished, Available, Finished)"
          },
          "metadata": {}
        },
        {
          "output_type": "execute_result",
          "execution_count": 101,
          "data": {
            "text/plain": "(253680, 34)"
          },
          "metadata": {}
        }
      ],
      "execution_count": 46,
      "metadata": {
        "jupyter": {
          "source_hidden": false,
          "outputs_hidden": false
        },
        "nteract": {
          "transient": {
            "deleting": false
          }
        },
        "gather": {
          "logged": 1734232017329
        }
      }
    },
    {
      "cell_type": "code",
      "source": [
        "combined.dtypes"
      ],
      "outputs": [
        {
          "output_type": "display_data",
          "data": {
            "application/vnd.livy.statement-meta+json": {
              "spark_pool": "032aaaac-60b2-43cf-93c8-66d12faea0c0",
              "statement_id": 45,
              "statement_ids": [
                45
              ],
              "state": "finished",
              "livy_statement_state": "available",
              "spark_jobs": {
                "numbers": {
                  "FAILED": 0,
                  "RUNNING": 0,
                  "UNKNOWN": 0,
                  "SUCCEEDED": 0
                },
                "jobs": [],
                "limit": 20,
                "rule": "ALL_DESC"
              },
              "session_id": "10",
              "normalized_state": "finished",
              "queued_time": "2024-12-15T02:58:34.3591413Z",
              "session_start_time": null,
              "execution_start_time": "2024-12-15T02:58:34.5189536Z",
              "execution_finish_time": "2024-12-15T02:58:34.811548Z",
              "parent_msg_id": "a5462265-b8b0-4cdb-95d4-20d9909d701e"
            },
            "text/plain": "StatementMeta(032aaaac-60b2-43cf-93c8-66d12faea0c0, 10, 45, Finished, Available, Finished)"
          },
          "metadata": {}
        },
        {
          "output_type": "execute_result",
          "execution_count": 89,
          "data": {
            "text/plain": "age                     float64\nsex                       int64\nchest pain type           int64\nresting bp s            float64\ncholesterol             float64\nfasting blood sugar       int64\nresting ecg               int64\nmax heart rate          float64\nexercise angina           int64\noldpeak                 float64\nST slope                  int64\ntarget                    int64\nDiabetes_binary         float64\nHighBP                  float64\nHighChol                float64\nCholCheck               float64\nBMI                     float64\nSmoker                  float64\nStroke                  float64\nHeartDiseaseorAttack    float64\nPhysActivity            float64\nFruits                  float64\nVeggies                 float64\nHvyAlcoholConsump       float64\nAnyHealthcare           float64\nNoDocbcCost             float64\nGenHlth                 float64\nMentHlth                float64\nPhysHlth                float64\nDiffWalk                float64\nSex                     float64\nAge                     float64\nEducation               float64\nIncome                  float64\ndtype: object"
          },
          "metadata": {}
        }
      ],
      "execution_count": 40,
      "metadata": {
        "jupyter": {
          "source_hidden": false,
          "outputs_hidden": false
        },
        "nteract": {
          "transient": {
            "deleting": false
          }
        },
        "gather": {
          "logged": 1734231514907
        }
      }
    },
    {
      "cell_type": "code",
      "source": [
        "# Drop columns not needed for MVP.\n",
        "combined = combined.drop(columns=['sex','age','cholestrol','oldpeak','fasting blood sugar','CholCheck','ST slope','HeartDiseaseorAttack' ], errors='ignore')\n"
      ],
      "outputs": [
        {
          "output_type": "display_data",
          "data": {
            "application/vnd.livy.statement-meta+json": {
              "spark_pool": "032aaaac-60b2-43cf-93c8-66d12faea0c0",
              "statement_id": 53,
              "statement_ids": [
                53
              ],
              "state": "finished",
              "livy_statement_state": "available",
              "spark_jobs": {
                "numbers": {
                  "FAILED": 0,
                  "RUNNING": 0,
                  "UNKNOWN": 0,
                  "SUCCEEDED": 0
                },
                "jobs": [],
                "limit": 20,
                "rule": "ALL_DESC"
              },
              "session_id": "10",
              "normalized_state": "finished",
              "queued_time": "2024-12-15T03:07:21.3405964Z",
              "session_start_time": null,
              "execution_start_time": "2024-12-15T03:07:21.4612893Z",
              "execution_finish_time": "2024-12-15T03:07:21.7460542Z",
              "parent_msg_id": "2623f223-e2a9-456e-bdab-30227fda54ca"
            },
            "text/plain": "StatementMeta(032aaaac-60b2-43cf-93c8-66d12faea0c0, 10, 53, Finished, Available, Finished)"
          },
          "metadata": {}
        }
      ],
      "execution_count": 48,
      "metadata": {
        "jupyter": {
          "source_hidden": false,
          "outputs_hidden": false
        },
        "nteract": {
          "transient": {
            "deleting": false
          }
        },
        "gather": {
          "logged": 1734232041811
        }
      }
    },
    {
      "cell_type": "code",
      "source": [
        "# New dataset with dropped columns\n",
        "combined.head\n"
      ],
      "outputs": [
        {
          "output_type": "display_data",
          "data": {
            "application/vnd.livy.statement-meta+json": {
              "spark_pool": "032aaaac-60b2-43cf-93c8-66d12faea0c0",
              "statement_id": 55,
              "statement_ids": [
                55
              ],
              "state": "finished",
              "livy_statement_state": "available",
              "spark_jobs": {
                "numbers": {
                  "FAILED": 0,
                  "RUNNING": 0,
                  "UNKNOWN": 0,
                  "SUCCEEDED": 0
                },
                "jobs": [],
                "limit": 20,
                "rule": "ALL_DESC"
              },
              "session_id": "10",
              "normalized_state": "finished",
              "queued_time": "2024-12-15T03:08:43.7854002Z",
              "session_start_time": null,
              "execution_start_time": "2024-12-15T03:08:43.9176171Z",
              "execution_finish_time": "2024-12-15T03:08:44.2321841Z",
              "parent_msg_id": "6b83524a-0764-4956-8fdc-4526b8e24b91"
            },
            "text/plain": "StatementMeta(032aaaac-60b2-43cf-93c8-66d12faea0c0, 10, 55, Finished, Available, Finished)"
          },
          "metadata": {}
        },
        {
          "output_type": "execute_result",
          "execution_count": 109,
          "data": {
            "text/plain": "<bound method NDFrame.head of         chest pain type  resting bp s  cholesterol  resting ecg  \\\n0                     2     -0.661931     0.834858            0   \n1                     4      0.427328     0.568528            2   \n2                     1      0.100551     0.233149            0   \n3                     2     -0.117301     0.509343            0   \n4                     4     -0.389616     0.884179            2   \n...                 ...           ...          ...          ...   \n253675                4     -0.661931    -1.088639            0   \n253676                4      2.605847     1.130781            0   \n253677                4     -0.226227     0.055595            2   \n253678                3     -0.117301    -0.013453            0   \n253679                4      0.699643     0.016139            2   \n\n        max heart rate  exercise angina  target  Diabetes_binary  HighBP  \\\n0             0.872988                0       0              0.0     1.0   \n1             0.794578                0       1              0.0     0.0   \n2             0.206502                0       1              0.0     1.0   \n3             0.598553                0       0              0.0     1.0   \n4             1.225834                0       1              0.0     1.0   \n...                ...              ...     ...              ...     ...   \n253675       -0.773625                1       1              0.0     1.0   \n253676        0.559347                1       0              1.0     1.0   \n253677       -0.342369                1       1              0.0     0.0   \n253678        1.500269                0       0              0.0     1.0   \n253679       -0.303164                0       1              1.0     1.0   \n\n        HighChol  ...  AnyHealthcare  NoDocbcCost  GenHlth  MentHlth  \\\n0            1.0  ...            1.0          0.0      5.0  1.998592   \n1            0.0  ...            0.0          1.0      3.0 -0.429630   \n2            1.0  ...            1.0          1.0      5.0  3.617407   \n3            0.0  ...            1.0          0.0      2.0 -0.429630   \n4            1.0  ...            1.0          0.0      2.0 -0.024926   \n...          ...  ...            ...          ...      ...       ...   \n253675       1.0  ...            1.0          0.0      3.0 -0.429630   \n253676       1.0  ...            1.0          0.0      4.0 -0.429630   \n253677       0.0  ...            1.0          0.0      1.0 -0.429630   \n253678       0.0  ...            1.0          0.0      3.0 -0.429630   \n253679       1.0  ...            1.0          0.0      2.0 -0.429630   \n\n        PhysHlth  DiffWalk  Sex   Age  Education  Income  \n0       1.233999       1.0  0.0   9.0        4.0     3.0  \n1      -0.486592       0.0  0.0   7.0        6.0     1.0  \n2       2.954590       1.0  0.0   9.0        4.0     8.0  \n3      -0.486592       0.0  0.0  11.0        3.0     6.0  \n4      -0.486592       0.0  0.0  11.0        5.0     4.0  \n...          ...       ...  ...   ...        ...     ...  \n253675  0.086938       0.0  1.0   5.0        6.0     7.0  \n253676 -0.486592       1.0  0.0  11.0        2.0     4.0  \n253677 -0.486592       0.0  0.0   2.0        5.0     2.0  \n253678 -0.486592       0.0  1.0   7.0        5.0     1.0  \n253679 -0.486592       0.0  0.0   9.0        6.0     2.0  \n\n[253680 rows x 27 columns]>"
          },
          "metadata": {}
        }
      ],
      "execution_count": 50,
      "metadata": {
        "jupyter": {
          "source_hidden": false,
          "outputs_hidden": false
        },
        "nteract": {
          "transient": {
            "deleting": false
          }
        },
        "gather": {
          "logged": 1734232124384
        }
      }
    },
    {
      "cell_type": "markdown",
      "source": [
        "**BUILD A MODEL FOR MVP**"
      ],
      "metadata": {
        "nteract": {
          "transient": {
            "deleting": false
          }
        }
      }
    },
    {
      "cell_type": "markdown",
      "source": [
        "LOGISTIC REGRESSION"
      ],
      "metadata": {
        "nteract": {
          "transient": {
            "deleting": false
          }
        }
      }
    },
    {
      "cell_type": "code",
      "source": [
        "data = combined.copy()"
      ],
      "outputs": [
        {
          "output_type": "display_data",
          "data": {
            "application/vnd.livy.statement-meta+json": {
              "spark_pool": "032aaaac-60b2-43cf-93c8-66d12faea0c0",
              "statement_id": 57,
              "statement_ids": [
                57
              ],
              "state": "finished",
              "livy_statement_state": "available",
              "spark_jobs": {
                "numbers": {
                  "FAILED": 0,
                  "RUNNING": 0,
                  "UNKNOWN": 0,
                  "SUCCEEDED": 0
                },
                "jobs": [],
                "limit": 20,
                "rule": "ALL_DESC"
              },
              "session_id": "10",
              "normalized_state": "finished",
              "queued_time": "2024-12-15T03:11:49.1561179Z",
              "session_start_time": null,
              "execution_start_time": "2024-12-15T03:11:49.2668251Z",
              "execution_finish_time": "2024-12-15T03:11:49.5611353Z",
              "parent_msg_id": "16d8cc8c-4f44-47a3-ac8d-9dd6f5b76fcc"
            },
            "text/plain": "StatementMeta(032aaaac-60b2-43cf-93c8-66d12faea0c0, 10, 57, Finished, Available, Finished)"
          },
          "metadata": {}
        }
      ],
      "execution_count": 52,
      "metadata": {
        "jupyter": {
          "source_hidden": false,
          "outputs_hidden": false
        },
        "nteract": {
          "transient": {
            "deleting": false
          }
        },
        "gather": {
          "logged": 1734232309765
        }
      }
    },
    {
      "cell_type": "code",
      "source": [
        "# Define feature columns (exclude 'target') and target column\n",
        "X = data.drop(columns=['target'])\n",
        "y = data['target']"
      ],
      "outputs": [
        {
          "output_type": "display_data",
          "data": {
            "application/vnd.livy.statement-meta+json": {
              "spark_pool": "032aaaac-60b2-43cf-93c8-66d12faea0c0",
              "statement_id": 58,
              "statement_ids": [
                58
              ],
              "state": "finished",
              "livy_statement_state": "available",
              "spark_jobs": {
                "numbers": {
                  "FAILED": 0,
                  "RUNNING": 0,
                  "UNKNOWN": 0,
                  "SUCCEEDED": 0
                },
                "jobs": [],
                "limit": 20,
                "rule": "ALL_DESC"
              },
              "session_id": "10",
              "normalized_state": "finished",
              "queued_time": "2024-12-15T03:12:05.9211215Z",
              "session_start_time": null,
              "execution_start_time": "2024-12-15T03:12:06.0467336Z",
              "execution_finish_time": "2024-12-15T03:12:06.3521012Z",
              "parent_msg_id": "f0bc96ae-22ab-496e-ac5b-f3bdc14a6710"
            },
            "text/plain": "StatementMeta(032aaaac-60b2-43cf-93c8-66d12faea0c0, 10, 58, Finished, Available, Finished)"
          },
          "metadata": {}
        }
      ],
      "execution_count": 53,
      "metadata": {
        "jupyter": {
          "source_hidden": false,
          "outputs_hidden": false
        },
        "nteract": {
          "transient": {
            "deleting": false
          }
        },
        "gather": {
          "logged": 1734232326383
        }
      }
    },
    {
      "cell_type": "code",
      "source": [
        "# Split data into train and test sets (80% train, 20% test)\n",
        "X_train, X_test, y_train, y_test = train_test_split(X, y, test_size=0.2, random_state=42, stratify=y)"
      ],
      "outputs": [
        {
          "output_type": "display_data",
          "data": {
            "application/vnd.livy.statement-meta+json": {
              "spark_pool": "032aaaac-60b2-43cf-93c8-66d12faea0c0",
              "statement_id": 59,
              "statement_ids": [
                59
              ],
              "state": "finished",
              "livy_statement_state": "available",
              "spark_jobs": {
                "numbers": {
                  "FAILED": 0,
                  "RUNNING": 0,
                  "UNKNOWN": 0,
                  "SUCCEEDED": 0
                },
                "jobs": [],
                "limit": 20,
                "rule": "ALL_DESC"
              },
              "session_id": "10",
              "normalized_state": "finished",
              "queued_time": "2024-12-15T03:12:20.4342259Z",
              "session_start_time": null,
              "execution_start_time": "2024-12-15T03:12:20.5490228Z",
              "execution_finish_time": "2024-12-15T03:12:21.3578369Z",
              "parent_msg_id": "a8a8202f-feda-4f96-8e6d-8c1f3e425595"
            },
            "text/plain": "StatementMeta(032aaaac-60b2-43cf-93c8-66d12faea0c0, 10, 59, Finished, Available, Finished)"
          },
          "metadata": {}
        }
      ],
      "execution_count": 54,
      "metadata": {
        "jupyter": {
          "source_hidden": false,
          "outputs_hidden": false
        },
        "nteract": {
          "transient": {
            "deleting": false
          }
        },
        "gather": {
          "logged": 1734232341400
        }
      }
    },
    {
      "cell_type": "code",
      "source": [
        "# Standardize numerical features (optional)\n",
        "scaler = StandardScaler()\n",
        "X_train = scaler.fit_transform(X_train)\n",
        "X_test = scaler.transform(X_test)\n"
      ],
      "outputs": [],
      "execution_count": null,
      "metadata": {
        "jupyter": {
          "source_hidden": false,
          "outputs_hidden": false
        },
        "nteract": {
          "transient": {
            "deleting": false
          }
        },
        "editable": false,
        "run_control": {
          "frozen": true
        }
      }
    },
    {
      "cell_type": "code",
      "source": [
        "# Train Model\n",
        "model = LogisticRegression(max_iter=1000, random_state=42)\n",
        "model.fit(X_train, y_train)"
      ],
      "outputs": [
        {
          "output_type": "display_data",
          "data": {
            "application/vnd.livy.statement-meta+json": {
              "spark_pool": "032aaaac-60b2-43cf-93c8-66d12faea0c0",
              "statement_id": 60,
              "statement_ids": [
                60
              ],
              "state": "finished",
              "livy_statement_state": "available",
              "spark_jobs": {
                "numbers": {
                  "FAILED": 0,
                  "RUNNING": 0,
                  "UNKNOWN": 0,
                  "SUCCEEDED": 0
                },
                "jobs": [],
                "limit": 20,
                "rule": "ALL_DESC"
              },
              "session_id": "10",
              "normalized_state": "finished",
              "queued_time": "2024-12-15T03:13:02.7994277Z",
              "session_start_time": null,
              "execution_start_time": "2024-12-15T03:13:02.9134576Z",
              "execution_finish_time": "2024-12-15T03:13:06.4081421Z",
              "parent_msg_id": "c807c26d-167d-4a1e-8091-f058c5227ed2"
            },
            "text/plain": "StatementMeta(032aaaac-60b2-43cf-93c8-66d12faea0c0, 10, 60, Finished, Available, Finished)"
          },
          "metadata": {}
        },
        {
          "output_type": "execute_result",
          "execution_count": 119,
          "data": {
            "text/plain": "LogisticRegression(max_iter=1000, random_state=42)",
            "text/html": "<style>#sk-container-id-1 {color: black;background-color: white;}#sk-container-id-1 pre{padding: 0;}#sk-container-id-1 div.sk-toggleable {background-color: white;}#sk-container-id-1 label.sk-toggleable__label {cursor: pointer;display: block;width: 100%;margin-bottom: 0;padding: 0.3em;box-sizing: border-box;text-align: center;}#sk-container-id-1 label.sk-toggleable__label-arrow:before {content: \"▸\";float: left;margin-right: 0.25em;color: #696969;}#sk-container-id-1 label.sk-toggleable__label-arrow:hover:before {color: black;}#sk-container-id-1 div.sk-estimator:hover label.sk-toggleable__label-arrow:before {color: black;}#sk-container-id-1 div.sk-toggleable__content {max-height: 0;max-width: 0;overflow: hidden;text-align: left;background-color: #f0f8ff;}#sk-container-id-1 div.sk-toggleable__content pre {margin: 0.2em;color: black;border-radius: 0.25em;background-color: #f0f8ff;}#sk-container-id-1 input.sk-toggleable__control:checked~div.sk-toggleable__content {max-height: 200px;max-width: 100%;overflow: auto;}#sk-container-id-1 input.sk-toggleable__control:checked~label.sk-toggleable__label-arrow:before {content: \"▾\";}#sk-container-id-1 div.sk-estimator input.sk-toggleable__control:checked~label.sk-toggleable__label {background-color: #d4ebff;}#sk-container-id-1 div.sk-label input.sk-toggleable__control:checked~label.sk-toggleable__label {background-color: #d4ebff;}#sk-container-id-1 input.sk-hidden--visually {border: 0;clip: rect(1px 1px 1px 1px);clip: rect(1px, 1px, 1px, 1px);height: 1px;margin: -1px;overflow: hidden;padding: 0;position: absolute;width: 1px;}#sk-container-id-1 div.sk-estimator {font-family: monospace;background-color: #f0f8ff;border: 1px dotted black;border-radius: 0.25em;box-sizing: border-box;margin-bottom: 0.5em;}#sk-container-id-1 div.sk-estimator:hover {background-color: #d4ebff;}#sk-container-id-1 div.sk-parallel-item::after {content: \"\";width: 100%;border-bottom: 1px solid gray;flex-grow: 1;}#sk-container-id-1 div.sk-label:hover label.sk-toggleable__label {background-color: #d4ebff;}#sk-container-id-1 div.sk-serial::before {content: \"\";position: absolute;border-left: 1px solid gray;box-sizing: border-box;top: 0;bottom: 0;left: 50%;z-index: 0;}#sk-container-id-1 div.sk-serial {display: flex;flex-direction: column;align-items: center;background-color: white;padding-right: 0.2em;padding-left: 0.2em;position: relative;}#sk-container-id-1 div.sk-item {position: relative;z-index: 1;}#sk-container-id-1 div.sk-parallel {display: flex;align-items: stretch;justify-content: center;background-color: white;position: relative;}#sk-container-id-1 div.sk-item::before, #sk-container-id-1 div.sk-parallel-item::before {content: \"\";position: absolute;border-left: 1px solid gray;box-sizing: border-box;top: 0;bottom: 0;left: 50%;z-index: -1;}#sk-container-id-1 div.sk-parallel-item {display: flex;flex-direction: column;z-index: 1;position: relative;background-color: white;}#sk-container-id-1 div.sk-parallel-item:first-child::after {align-self: flex-end;width: 50%;}#sk-container-id-1 div.sk-parallel-item:last-child::after {align-self: flex-start;width: 50%;}#sk-container-id-1 div.sk-parallel-item:only-child::after {width: 0;}#sk-container-id-1 div.sk-dashed-wrapped {border: 1px dashed gray;margin: 0 0.4em 0.5em 0.4em;box-sizing: border-box;padding-bottom: 0.4em;background-color: white;}#sk-container-id-1 div.sk-label label {font-family: monospace;font-weight: bold;display: inline-block;line-height: 1.2em;}#sk-container-id-1 div.sk-label-container {text-align: center;}#sk-container-id-1 div.sk-container {/* jupyter's `normalize.less` sets `[hidden] { display: none; }` but bootstrap.min.css set `[hidden] { display: none !important; }` so we also need the `!important` here to be able to override the default hidden behavior on the sphinx rendered scikit-learn.org. See: https://github.com/scikit-learn/scikit-learn/issues/21755 */display: inline-block !important;position: relative;}#sk-container-id-1 div.sk-text-repr-fallback {display: none;}</style><div id=\"sk-container-id-1\" class=\"sk-top-container\"><div class=\"sk-text-repr-fallback\"><pre>LogisticRegression(max_iter=1000, random_state=42)</pre><b>In a Jupyter environment, please rerun this cell to show the HTML representation or trust the notebook. <br />On GitHub, the HTML representation is unable to render, please try loading this page with nbviewer.org.</b></div><div class=\"sk-container\" hidden><div class=\"sk-item\"><div class=\"sk-estimator sk-toggleable\"><input class=\"sk-toggleable__control sk-hidden--visually\" id=\"sk-estimator-id-1\" type=\"checkbox\" checked><label for=\"sk-estimator-id-1\" class=\"sk-toggleable__label sk-toggleable__label-arrow\">LogisticRegression</label><div class=\"sk-toggleable__content\"><pre>LogisticRegression(max_iter=1000, random_state=42)</pre></div></div></div></div></div>"
          },
          "metadata": {}
        }
      ],
      "execution_count": 55,
      "metadata": {
        "jupyter": {
          "source_hidden": false,
          "outputs_hidden": false
        },
        "nteract": {
          "transient": {
            "deleting": false
          }
        },
        "gather": {
          "logged": 1734232386508
        }
      }
    },
    {
      "cell_type": "code",
      "source": [
        "# Evaluate Model\n",
        "y_pred = model.predict(X_test)\n",
        "print(\"Accuracy:\", accuracy_score(y_test, y_pred))\n",
        "print(\"\\nClassification Report:\\n\", classification_report(y_test, y_pred))\n"
      ],
      "outputs": [
        {
          "output_type": "display_data",
          "data": {
            "application/vnd.livy.statement-meta+json": {
              "spark_pool": "032aaaac-60b2-43cf-93c8-66d12faea0c0",
              "statement_id": 61,
              "statement_ids": [
                61
              ],
              "state": "finished",
              "livy_statement_state": "available",
              "spark_jobs": {
                "numbers": {
                  "FAILED": 0,
                  "RUNNING": 0,
                  "UNKNOWN": 0,
                  "SUCCEEDED": 0
                },
                "jobs": [],
                "limit": 20,
                "rule": "ALL_DESC"
              },
              "session_id": "10",
              "normalized_state": "finished",
              "queued_time": "2024-12-15T03:13:18.1364441Z",
              "session_start_time": null,
              "execution_start_time": "2024-12-15T03:13:18.2677756Z",
              "execution_finish_time": "2024-12-15T03:13:18.5637625Z",
              "parent_msg_id": "3e74b4c3-3b89-4c05-b16b-40e09cbe2b60"
            },
            "text/plain": "StatementMeta(032aaaac-60b2-43cf-93c8-66d12faea0c0, 10, 61, Finished, Available, Finished)"
          },
          "metadata": {}
        },
        {
          "output_type": "stream",
          "name": "stdout",
          "text": "Accuracy: 0.7874684642068748\n\nClassification Report:\n               precision    recall  f1-score   support\n\n           0       0.77      0.79      0.78     23883\n           1       0.81      0.79      0.80     26853\n\n    accuracy                           0.79     50736\n   macro avg       0.79      0.79      0.79     50736\nweighted avg       0.79      0.79      0.79     50736\n\n"
        }
      ],
      "execution_count": 56,
      "metadata": {
        "jupyter": {
          "source_hidden": false,
          "outputs_hidden": false
        },
        "nteract": {
          "transient": {
            "deleting": false
          }
        },
        "gather": {
          "logged": 1734232398620
        }
      }
    },
    {
      "cell_type": "markdown",
      "source": [
        "**Visualization**"
      ],
      "metadata": {
        "nteract": {
          "transient": {
            "deleting": false
          }
        }
      }
    },
    {
      "cell_type": "code",
      "source": [
        "# Generate the confusion matrix\n",
        "cm = confusion_matrix(y_test, y_pred)"
      ],
      "outputs": [
        {
          "output_type": "display_data",
          "data": {
            "application/vnd.livy.statement-meta+json": {
              "spark_pool": "032aaaac-60b2-43cf-93c8-66d12faea0c0",
              "statement_id": 63,
              "statement_ids": [
                63
              ],
              "state": "finished",
              "livy_statement_state": "available",
              "spark_jobs": {
                "numbers": {
                  "FAILED": 0,
                  "RUNNING": 0,
                  "UNKNOWN": 0,
                  "SUCCEEDED": 0
                },
                "jobs": [],
                "limit": 20,
                "rule": "ALL_DESC"
              },
              "session_id": "10",
              "normalized_state": "finished",
              "queued_time": "2024-12-15T03:20:13.183973Z",
              "session_start_time": null,
              "execution_start_time": "2024-12-15T03:20:13.3025012Z",
              "execution_finish_time": "2024-12-15T03:20:13.6024572Z",
              "parent_msg_id": "8017b58e-cb67-4e5e-a8fe-13d6cabc1f27"
            },
            "text/plain": "StatementMeta(032aaaac-60b2-43cf-93c8-66d12faea0c0, 10, 63, Finished, Available, Finished)"
          },
          "metadata": {}
        }
      ],
      "execution_count": 58,
      "metadata": {
        "jupyter": {
          "source_hidden": false,
          "outputs_hidden": false
        },
        "nteract": {
          "transient": {
            "deleting": false
          }
        },
        "gather": {
          "logged": 1734232813689
        }
      }
    },
    {
      "cell_type": "code",
      "source": [
        "# Display the confusion matrix\n",
        "disp = ConfusionMatrixDisplay(confusion_matrix=cm, display_labels=[\"No Disease\", \"Disease\"])\n",
        "disp.plot(cmap=\"Blues\", values_format=\"d\")\n",
        "plt.title(\"Confusion Matrix\")\n",
        "plt.show()\n"
      ],
      "outputs": [
        {
          "output_type": "display_data",
          "data": {
            "application/vnd.livy.statement-meta+json": {
              "spark_pool": "032aaaac-60b2-43cf-93c8-66d12faea0c0",
              "statement_id": 64,
              "statement_ids": [
                64
              ],
              "state": "finished",
              "livy_statement_state": "available",
              "spark_jobs": {
                "numbers": {
                  "FAILED": 0,
                  "RUNNING": 0,
                  "UNKNOWN": 0,
                  "SUCCEEDED": 0
                },
                "jobs": [],
                "limit": 20,
                "rule": "ALL_DESC"
              },
              "session_id": "10",
              "normalized_state": "finished",
              "queued_time": "2024-12-15T03:20:15.1457541Z",
              "session_start_time": null,
              "execution_start_time": "2024-12-15T03:20:15.308192Z",
              "execution_finish_time": "2024-12-15T03:20:16.1349594Z",
              "parent_msg_id": "7407aa12-eb59-4d95-becd-f81ef73665c5"
            },
            "text/plain": "StatementMeta(032aaaac-60b2-43cf-93c8-66d12faea0c0, 10, 64, Finished, Available, Finished)"
          },
          "metadata": {}
        },
        {
          "output_type": "display_data",
          "data": {
            "text/plain": "<Figure size 640x480 with 2 Axes>",
            "image/png": "[encoded data removed]"
          },
          "metadata": {}
        }
      ],
      "execution_count": 59,
      "metadata": {
        "jupyter": {
          "source_hidden": false,
          "outputs_hidden": false
        },
        "nteract": {
          "transient": {
            "deleting": false
          }
        },
        "gather": {
          "logged": 1734232816292
        }
      }
    },
    {
      "cell_type": "markdown",
      "source": [
        "From above Logistic regression and confusion matrix we see that:\n",
        "\n",
        "Accuracy: 78.7% of predictions are correct.\n",
        "Precision: 80.7% of Disease predictions were accurate.\n",
        "Recall: 78.7% of actual Disease cases were identified.\n",
        "\n",
        "This indicates a strong model with good precision, but there's room to improve recall by reducing false negatives."
      ],
      "metadata": {
        "nteract": {
          "transient": {
            "deleting": false
          }
        }
      }
    },
    {
      "cell_type": "markdown",
      "source": [
        "- **Based on the MVP model's performance, which achieved an accuracy of 78.7%, the model demonstrates a strong ability to correctly classify both Disease and No Disease cases. \n",
        "- With a precision of 80.7% for detecting Disease and a recall of 78.7% for identifying true positive cases, the model performs well in distinguishing between the two classes.\n",
        " - While the results are promising, there is potential for further improvement, particularly in reducing false negatives to enhance recall. Overall, the model offers a reliable foundation for predicting disease outcomes, suitable for use in real-world applications with some fine-tuning.**"
      ],
      "metadata": {
        "nteract": {
          "transient": {
            "deleting": false
          }
        }
      }
    }
  ],
  "metadata": {
    "kernelspec": {
      "name": "synapse_pyspark",
      "language": "Python",
      "display_name": "Synapse PySpark"
    },
    "language_info": {
      "name": "python",
      "version": "3.8.0",
      "mimetype": "text/x-python",
      "file_extension": ".py",
      "pygments_lexer": "ipython",
      "codemirror_mode": "ipython",
      "nbconvert_exporter": "python"
    },
    "microsoft": {
      "ms_spell_check": {
        "ms_spell_check_language": "en"
      },
      "host": {
        "AzureML": {
          "notebookHasBeenCompleted": true
        }
      }
    },
    "kernel_info": {
      "name": "synapse_pyspark"
    },
    "nteract": {
      "version": "nteract-front-end@1.0.0"
    }
  },
  "nbformat": 4,
  "nbformat_minor": 2
}